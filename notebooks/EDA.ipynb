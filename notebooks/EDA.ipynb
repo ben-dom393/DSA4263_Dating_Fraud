{
 "cells": [
  {
   "cell_type": "code",
   "execution_count": 4,
   "metadata": {},
   "outputs": [],
   "source": [
    "import pandas as pd\n",
    "import numpy as np\n",
    "\n",
    "import matplotlib.pyplot as plt\n",
    "import seaborn as sns"
   ]
  },
  {
   "cell_type": "markdown",
   "metadata": {},
   "source": [
    "# EDA for scam profiles"
   ]
  },
  {
   "cell_type": "code",
   "execution_count": 7,
   "metadata": {},
   "outputs": [
    {
     "data": {
      "text/html": [
       "<div>\n",
       "<style scoped>\n",
       "    .dataframe tbody tr th:only-of-type {\n",
       "        vertical-align: middle;\n",
       "    }\n",
       "\n",
       "    .dataframe tbody tr th {\n",
       "        vertical-align: top;\n",
       "    }\n",
       "\n",
       "    .dataframe thead th {\n",
       "        text-align: right;\n",
       "    }\n",
       "</style>\n",
       "<table border=\"1\" class=\"dataframe\">\n",
       "  <thead>\n",
       "    <tr style=\"text-align: right;\">\n",
       "      <th></th>\n",
       "      <th>username</th>\n",
       "      <th>name</th>\n",
       "      <th>age</th>\n",
       "      <th>location</th>\n",
       "      <th>ethnicity</th>\n",
       "      <th>occupation</th>\n",
       "      <th>status</th>\n",
       "      <th>phone</th>\n",
       "      <th>inet</th>\n",
       "      <th>email</th>\n",
       "      <th>description</th>\n",
       "      <th>messages</th>\n",
       "      <th>justifications</th>\n",
       "    </tr>\n",
       "  </thead>\n",
       "  <tbody>\n",
       "    <tr>\n",
       "      <th>0</th>\n",
       "      <td>fredJ</td>\n",
       "      <td>Fred Millestone</td>\n",
       "      <td>49</td>\n",
       "      <td>San Diego, California, United States</td>\n",
       "      <td>white</td>\n",
       "      <td>military</td>\n",
       "      <td>–</td>\n",
       "      <td>–</td>\n",
       "      <td>178.238.213.161</td>\n",
       "      <td>fred.millestone@yahoo.com</td>\n",
       "      <td>I am a simple and easy going man,I do not like...</td>\n",
       "      <td>hello beauty can we chat? add me fred.millesto...</td>\n",
       "      <td>IP is a proxy\\nIP doesn’t correspond location\\...</td>\n",
       "    </tr>\n",
       "    <tr>\n",
       "      <th>1</th>\n",
       "      <td>donald200</td>\n",
       "      <td>Donald Steve</td>\n",
       "      <td>46</td>\n",
       "      <td>Ireland</td>\n",
       "      <td>white</td>\n",
       "      <td>Self Employed</td>\n",
       "      <td>widowed</td>\n",
       "      <td>widowed</td>\n",
       "      <td>164.82.146.3</td>\n",
       "      <td>donaldsteve200@yahoo.com</td>\n",
       "      <td>Am smart, organized, intelligent, honest, cari...</td>\n",
       "      <td>How are you doing,I’m Donald from Ireland… am ...</td>\n",
       "      <td>IP is a proxy\\nIP doesn’t correspond location\\...</td>\n",
       "    </tr>\n",
       "    <tr>\n",
       "      <th>2</th>\n",
       "      <td>huddleman</td>\n",
       "      <td>Peter</td>\n",
       "      <td>45</td>\n",
       "      <td>Arlington, or Andrews, or Dallas, Texas, Unite...</td>\n",
       "      <td>white</td>\n",
       "      <td>military</td>\n",
       "      <td>widowed</td>\n",
       "      <td>widowed</td>\n",
       "      <td>69.115.19.232</td>\n",
       "      <td>frankiess8928@gmail.com</td>\n",
       "      <td>I am sweet, thoughtful, kind, intelligent, and...</td>\n",
       "      <td>–</td>\n",
       "      <td>IP is a proxy\\nIP doesn’t correspond location\\...</td>\n",
       "    </tr>\n",
       "    <tr>\n",
       "      <th>3</th>\n",
       "      <td>jannycutelove</td>\n",
       "      <td>Jane Douglas</td>\n",
       "      <td>33</td>\n",
       "      <td>Vancouver, Canada</td>\n",
       "      <td>white</td>\n",
       "      <td>student</td>\n",
       "      <td>single</td>\n",
       "      <td>single</td>\n",
       "      <td>67.191.26.153</td>\n",
       "      <td>janedouglas231@yahoo.com</td>\n",
       "      <td>I am an attractive, physically and mentally he...</td>\n",
       "      <td>–</td>\n",
       "      <td>IP is a proxy\\nIP doesn’t correspond location\\...</td>\n",
       "    </tr>\n",
       "    <tr>\n",
       "      <th>4</th>\n",
       "      <td>Richardholdy</td>\n",
       "      <td>David Holdridge</td>\n",
       "      <td>47</td>\n",
       "      <td>Bedford, Pennsylvania, United states</td>\n",
       "      <td>white</td>\n",
       "      <td>military</td>\n",
       "      <td>widowed</td>\n",
       "      <td>widowed</td>\n",
       "      <td>199.15.250.244</td>\n",
       "      <td>david_holdy@yahoo.com</td>\n",
       "      <td>I am a loyal,friendly ,and always supportive ....</td>\n",
       "      <td>Its really a pleasure to hear from back from u...</td>\n",
       "      <td>IP is a proxy\\nIP doesn’t correspond location\\...</td>\n",
       "    </tr>\n",
       "  </tbody>\n",
       "</table>\n",
       "</div>"
      ],
      "text/plain": [
       "        username             name age  \\\n",
       "0          fredJ  Fred Millestone  49   \n",
       "1      donald200     Donald Steve  46   \n",
       "2      huddleman            Peter  45   \n",
       "3  jannycutelove     Jane Douglas  33   \n",
       "4   Richardholdy  David Holdridge  47   \n",
       "\n",
       "                                            location ethnicity     occupation  \\\n",
       "0               San Diego, California, United States     white       military   \n",
       "1                                            Ireland     white  Self Employed   \n",
       "2  Arlington, or Andrews, or Dallas, Texas, Unite...     white       military   \n",
       "3                                  Vancouver, Canada     white        student   \n",
       "4               Bedford, Pennsylvania, United states     white       military   \n",
       "\n",
       "    status    phone             inet                      email  \\\n",
       "0        –        –  178.238.213.161  fred.millestone@yahoo.com   \n",
       "1  widowed  widowed     164.82.146.3   donaldsteve200@yahoo.com   \n",
       "2  widowed  widowed    69.115.19.232    frankiess8928@gmail.com   \n",
       "3   single   single    67.191.26.153   janedouglas231@yahoo.com   \n",
       "4  widowed  widowed   199.15.250.244      david_holdy@yahoo.com   \n",
       "\n",
       "                                         description  \\\n",
       "0  I am a simple and easy going man,I do not like...   \n",
       "1  Am smart, organized, intelligent, honest, cari...   \n",
       "2  I am sweet, thoughtful, kind, intelligent, and...   \n",
       "3  I am an attractive, physically and mentally he...   \n",
       "4  I am a loyal,friendly ,and always supportive ....   \n",
       "\n",
       "                                            messages  \\\n",
       "0  hello beauty can we chat? add me fred.millesto...   \n",
       "1  How are you doing,I’m Donald from Ireland… am ...   \n",
       "2                                                  –   \n",
       "3                                                  –   \n",
       "4  Its really a pleasure to hear from back from u...   \n",
       "\n",
       "                                      justifications  \n",
       "0  IP is a proxy\\nIP doesn’t correspond location\\...  \n",
       "1  IP is a proxy\\nIP doesn’t correspond location\\...  \n",
       "2  IP is a proxy\\nIP doesn’t correspond location\\...  \n",
       "3  IP is a proxy\\nIP doesn’t correspond location\\...  \n",
       "4  IP is a proxy\\nIP doesn’t correspond location\\...  "
      ]
     },
     "execution_count": 7,
     "metadata": {},
     "output_type": "execute_result"
    }
   ],
   "source": [
    "scammers_df = pd.read_csv('../data/interim/scam_profiles.csv')\n",
    "scammers_df.head()"
   ]
  },
  {
   "cell_type": "code",
   "execution_count": 3,
   "metadata": {},
   "outputs": [],
   "source": [
    "scammers_df.replace(\"–\", np.nan, inplace=True)"
   ]
  },
  {
   "cell_type": "code",
   "execution_count": 4,
   "metadata": {},
   "outputs": [
    {
     "data": {
      "text/html": [
       "<div>\n",
       "<style scoped>\n",
       "    .dataframe tbody tr th:only-of-type {\n",
       "        vertical-align: middle;\n",
       "    }\n",
       "\n",
       "    .dataframe tbody tr th {\n",
       "        vertical-align: top;\n",
       "    }\n",
       "\n",
       "    .dataframe thead th {\n",
       "        text-align: right;\n",
       "    }\n",
       "</style>\n",
       "<table border=\"1\" class=\"dataframe\">\n",
       "  <thead>\n",
       "    <tr style=\"text-align: right;\">\n",
       "      <th></th>\n",
       "      <th>username</th>\n",
       "      <th>name</th>\n",
       "      <th>age</th>\n",
       "      <th>location</th>\n",
       "      <th>ethnicity</th>\n",
       "      <th>occupation</th>\n",
       "      <th>status</th>\n",
       "      <th>phone</th>\n",
       "      <th>inet</th>\n",
       "      <th>email</th>\n",
       "      <th>description</th>\n",
       "      <th>messages</th>\n",
       "      <th>justifications</th>\n",
       "    </tr>\n",
       "  </thead>\n",
       "  <tbody>\n",
       "    <tr>\n",
       "      <th>count</th>\n",
       "      <td>3747</td>\n",
       "      <td>3747</td>\n",
       "      <td>3744</td>\n",
       "      <td>3747</td>\n",
       "      <td>3586</td>\n",
       "      <td>3451</td>\n",
       "      <td>3554</td>\n",
       "      <td>3558</td>\n",
       "      <td>3502</td>\n",
       "      <td>3745</td>\n",
       "      <td>3593</td>\n",
       "      <td>1735</td>\n",
       "      <td>3747</td>\n",
       "    </tr>\n",
       "    <tr>\n",
       "      <th>unique</th>\n",
       "      <td>3737</td>\n",
       "      <td>3603</td>\n",
       "      <td>266</td>\n",
       "      <td>1974</td>\n",
       "      <td>35</td>\n",
       "      <td>1049</td>\n",
       "      <td>32</td>\n",
       "      <td>191</td>\n",
       "      <td>3298</td>\n",
       "      <td>3734</td>\n",
       "      <td>3542</td>\n",
       "      <td>1722</td>\n",
       "      <td>2514</td>\n",
       "    </tr>\n",
       "    <tr>\n",
       "      <th>top</th>\n",
       "      <td>james</td>\n",
       "      <td>David</td>\n",
       "      <td>51</td>\n",
       "      <td>New York, United States</td>\n",
       "      <td>white</td>\n",
       "      <td>military</td>\n",
       "      <td>single</td>\n",
       "      <td>single</td>\n",
       "      <td>widowed</td>\n",
       "      <td>lilian1988john@yahoo.com</td>\n",
       "      <td>am a loving, caring and good looking man, i lo...</td>\n",
       "      <td>same as description</td>\n",
       "      <td>IP is a proxy\\nIP doesn’t correspond location\\...</td>\n",
       "    </tr>\n",
       "    <tr>\n",
       "      <th>freq</th>\n",
       "      <td>2</td>\n",
       "      <td>5</td>\n",
       "      <td>157</td>\n",
       "      <td>338</td>\n",
       "      <td>2469</td>\n",
       "      <td>375</td>\n",
       "      <td>1883</td>\n",
       "      <td>1794</td>\n",
       "      <td>11</td>\n",
       "      <td>2</td>\n",
       "      <td>3</td>\n",
       "      <td>3</td>\n",
       "      <td>205</td>\n",
       "    </tr>\n",
       "  </tbody>\n",
       "</table>\n",
       "</div>"
      ],
      "text/plain": [
       "       username   name   age                 location ethnicity occupation  \\\n",
       "count      3747   3747  3744                     3747      3586       3451   \n",
       "unique     3737   3603   266                     1974        35       1049   \n",
       "top       james  David    51  New York, United States     white   military   \n",
       "freq          2      5   157                      338      2469        375   \n",
       "\n",
       "        status   phone     inet                     email  \\\n",
       "count     3554    3558     3502                      3745   \n",
       "unique      32     191     3298                      3734   \n",
       "top     single  single  widowed  lilian1988john@yahoo.com   \n",
       "freq      1883    1794       11                         2   \n",
       "\n",
       "                                              description  \\\n",
       "count                                                3593   \n",
       "unique                                               3542   \n",
       "top     am a loving, caring and good looking man, i lo...   \n",
       "freq                                                    3   \n",
       "\n",
       "                   messages                                     justifications  \n",
       "count                  1735                                               3747  \n",
       "unique                 1722                                               2514  \n",
       "top     same as description  IP is a proxy\\nIP doesn’t correspond location\\...  \n",
       "freq                      3                                                205  "
      ]
     },
     "execution_count": 4,
     "metadata": {},
     "output_type": "execute_result"
    }
   ],
   "source": [
    "scammers_df.describe()"
   ]
  },
  {
   "cell_type": "code",
   "execution_count": 5,
   "metadata": {},
   "outputs": [
    {
     "data": {
      "text/plain": [
       "username\n",
       "james                  2\n",
       "wilson                 2\n",
       "Lawrence               2\n",
       "steven                 2\n",
       "john                   2\n",
       "                      ..\n",
       "davidmckinney200030    1\n",
       "honeybunch104          1\n",
       "johnrensburg1          1\n",
       "lorensseeking          1\n",
       "Gabrielax              1\n",
       "Name: count, Length: 3737, dtype: int64"
      ]
     },
     "execution_count": 5,
     "metadata": {},
     "output_type": "execute_result"
    }
   ],
   "source": [
    "scammers_df[\"username\"].value_counts()"
   ]
  },
  {
   "cell_type": "code",
   "execution_count": 6,
   "metadata": {},
   "outputs": [
    {
     "data": {
      "text/plain": [
       "username          3747\n",
       "name              3747\n",
       "age               3744\n",
       "location          3747\n",
       "ethnicity         3586\n",
       "occupation        3451\n",
       "status            3554\n",
       "phone             3558\n",
       "inet              3502\n",
       "email             3745\n",
       "description       3593\n",
       "messages          1735\n",
       "justifications    3747\n",
       "dtype: int64"
      ]
     },
     "execution_count": 6,
     "metadata": {},
     "output_type": "execute_result"
    }
   ],
   "source": [
    "scammers_df.notnull().sum()"
   ]
  },
  {
   "cell_type": "code",
   "execution_count": 7,
   "metadata": {},
   "outputs": [
    {
     "name": "stderr",
     "output_type": "stream",
     "text": [
      "/home/javier/miniconda3/envs/dsa4263/lib/python3.10/site-packages/seaborn/_oldcore.py:1119: FutureWarning: use_inf_as_na option is deprecated and will be removed in a future version. Convert inf values to NaN before operating instead.\n",
      "  with pd.option_context('mode.use_inf_as_na', True):\n"
     ]
    },
    {
     "data": {
      "image/png": "[encoded data removed]",
      "text/plain": [
       "<Figure size 1200x600 with 1 Axes>"
      ]
     },
     "metadata": {},
     "output_type": "display_data"
    }
   ],
   "source": [
    "# plot distribution of age of users with seaborn\n",
    "plt.figure(figsize=(12, 6))\n",
    "sns.histplot(scammers_df[\"age\"], bins=30, kde=True)\n",
    "plt.title(\"Distribution of age of users\")\n",
    "plt.show()"
   ]
  },
  {
   "cell_type": "code",
   "execution_count": 8,
   "metadata": {},
   "outputs": [
    {
     "data": {
      "text/plain": [
       "age\n",
       "51          157\n",
       "50          154\n",
       "52          144\n",
       "49          140\n",
       "55          122\n",
       "           ... \n",
       "45 or 59      1\n",
       "40 or 22      1\n",
       "35 or 41      1\n",
       "27 or 29      1\n",
       "54 or 60      1\n",
       "Name: count, Length: 266, dtype: int64"
      ]
     },
     "execution_count": 8,
     "metadata": {},
     "output_type": "execute_result"
    }
   ],
   "source": [
    "scammers_df[\"age\"].value_counts()"
   ]
  },
  {
   "cell_type": "markdown",
   "metadata": {},
   "source": [
    "Need to clean up age column"
   ]
  },
  {
   "cell_type": "code",
   "execution_count": 9,
   "metadata": {},
   "outputs": [
    {
     "data": {
      "text/plain": [
       "status\n",
       "single                                 1883\n",
       "widowed                                1029\n",
       "divorced                                527\n",
       "separated                                28\n",
       "Widowed                                  21\n",
       "Divorced                                 14\n",
       "widower                                  13\n",
       "widow                                     9\n",
       "married                                   4\n",
       "divorce                                   3\n",
       "single or divorced                        2\n",
       "widowed or divorced                       1\n",
       "seprated                                  1\n",
       "married or divorced                       1\n",
       "divorced or single                        1\n",
       "window                                    1\n",
       "singles                                   1\n",
       "singlescammer’s real name: Olusegun       1\n",
       "Signle                                    1\n",
       "Separated                                 1\n",
       "seperated                                 1\n",
       "Widow                                     1\n",
       "Widower                                   1\n",
       "widower or divorced                       1\n",
       "military                                  1\n",
       "Single                                    1\n",
       "married (and looking for marriage)        1\n",
       "Civil Engineer                            1\n",
       "nurse                                     1\n",
       "window – his spelling                     1\n",
       "windoew                                   1\n",
       "Nursing assistant                         1\n",
       "Name: count, dtype: int64"
      ]
     },
     "execution_count": 9,
     "metadata": {},
     "output_type": "execute_result"
    }
   ],
   "source": [
    "scammers_df[\"status\"].value_counts()"
   ]
  },
  {
   "cell_type": "markdown",
   "metadata": {},
   "source": [
    "clean up status"
   ]
  },
  {
   "cell_type": "code",
   "execution_count": 10,
   "metadata": {},
   "outputs": [
    {
     "data": {
      "text/plain": [
       "21"
      ]
     },
     "execution_count": 10,
     "metadata": {},
     "output_type": "execute_result"
    }
   ],
   "source": [
    "sum(scammers_df[\"status\"].value_counts() == 1)"
   ]
  },
  {
   "cell_type": "markdown",
   "metadata": {},
   "source": [
    "## EDA for real profiles"
   ]
  },
  {
   "cell_type": "code",
   "execution_count": 2,
   "metadata": {},
   "outputs": [
    {
     "data": {
      "text/html": [
       "<div>\n",
       "<style scoped>\n",
       "    .dataframe tbody tr th:only-of-type {\n",
       "        vertical-align: middle;\n",
       "    }\n",
       "\n",
       "    .dataframe tbody tr th {\n",
       "        vertical-align: top;\n",
       "    }\n",
       "\n",
       "    .dataframe thead th {\n",
       "        text-align: right;\n",
       "    }\n",
       "</style>\n",
       "<table border=\"1\" class=\"dataframe\">\n",
       "  <thead>\n",
       "    <tr style=\"text-align: right;\">\n",
       "      <th></th>\n",
       "      <th>gender</th>\n",
       "      <th>age</th>\n",
       "      <th>location</th>\n",
       "      <th>status</th>\n",
       "      <th>username</th>\n",
       "      <th>ethnicity</th>\n",
       "      <th>occupation</th>\n",
       "      <th>description</th>\n",
       "      <th>match_age</th>\n",
       "      <th>children</th>\n",
       "      <th>orientation</th>\n",
       "      <th>religion</th>\n",
       "      <th>smoking</th>\n",
       "      <th>drinking</th>\n",
       "      <th>intent</th>\n",
       "    </tr>\n",
       "  </thead>\n",
       "  <tbody>\n",
       "    <tr>\n",
       "      <th>0</th>\n",
       "      <td>male</td>\n",
       "      <td>50 y.o.</td>\n",
       "      <td>East Chicago, IN, USA</td>\n",
       "      <td>widowed</td>\n",
       "      <td>Royer6873</td>\n",
       "      <td>hispanic</td>\n",
       "      <td>NaN</td>\n",
       "      <td>NaN</td>\n",
       "      <td>from 19 to 86</td>\n",
       "      <td>want children</td>\n",
       "      <td>Straight</td>\n",
       "      <td>Other</td>\n",
       "      <td>non-smoker</td>\n",
       "      <td>occasional drinker</td>\n",
       "      <td>Serious Relationship</td>\n",
       "    </tr>\n",
       "    <tr>\n",
       "      <th>1</th>\n",
       "      <td>female</td>\n",
       "      <td>42 y.o.</td>\n",
       "      <td>Mykolaiv, Mykolaiv Oblast, Ukraine, 54000</td>\n",
       "      <td>single</td>\n",
       "      <td>uaola1981</td>\n",
       "      <td>white</td>\n",
       "      <td>NaN</td>\n",
       "      <td>NaN</td>\n",
       "      <td>from 19 to 75</td>\n",
       "      <td>no children</td>\n",
       "      <td>Straight</td>\n",
       "      <td>Other</td>\n",
       "      <td>non-smoker</td>\n",
       "      <td>social drinker</td>\n",
       "      <td>Friendship, Romance, Serious Relationship, Mar...</td>\n",
       "    </tr>\n",
       "    <tr>\n",
       "      <th>2</th>\n",
       "      <td>female</td>\n",
       "      <td>58 y.o.</td>\n",
       "      <td>Tulsa, OK, USA</td>\n",
       "      <td>single</td>\n",
       "      <td>Dessarono55</td>\n",
       "      <td>black</td>\n",
       "      <td>Logistics</td>\n",
       "      <td>NaN</td>\n",
       "      <td>from 50 to 60</td>\n",
       "      <td>1-2 living elsewhere</td>\n",
       "      <td>Straight</td>\n",
       "      <td>Spiritual</td>\n",
       "      <td>non-smoker</td>\n",
       "      <td>social drinker</td>\n",
       "      <td>Serious Relationship, Marriage</td>\n",
       "    </tr>\n",
       "    <tr>\n",
       "      <th>3</th>\n",
       "      <td>male</td>\n",
       "      <td>60 y.o.</td>\n",
       "      <td>Algiers [El Djazaïr], Algeria</td>\n",
       "      <td>single</td>\n",
       "      <td>maliktabib1964</td>\n",
       "      <td>white</td>\n",
       "      <td>NaN</td>\n",
       "      <td>NaN</td>\n",
       "      <td>from 19 to 50</td>\n",
       "      <td>no children</td>\n",
       "      <td>Straight</td>\n",
       "      <td>Muslim</td>\n",
       "      <td>non-smoker</td>\n",
       "      <td>never</td>\n",
       "      <td>Friendship</td>\n",
       "    </tr>\n",
       "    <tr>\n",
       "      <th>4</th>\n",
       "      <td>male</td>\n",
       "      <td>28 y.o.</td>\n",
       "      <td>Santo Domingo de los Tsáchilas, Ecuador</td>\n",
       "      <td>single</td>\n",
       "      <td>Jaron26</td>\n",
       "      <td>hispanic</td>\n",
       "      <td>Ingeniero Agropecuario</td>\n",
       "      <td>NaN</td>\n",
       "      <td>from 25 to 30</td>\n",
       "      <td>no children</td>\n",
       "      <td>Straight</td>\n",
       "      <td>Christian</td>\n",
       "      <td>non-smoker</td>\n",
       "      <td>never</td>\n",
       "      <td>Fun, Friendship, Romance, Serious Relationship...</td>\n",
       "    </tr>\n",
       "  </tbody>\n",
       "</table>\n",
       "</div>"
      ],
      "text/plain": [
       "   gender      age                                   location   status  \\\n",
       "0    male  50 y.o.                      East Chicago, IN, USA  widowed   \n",
       "1  female  42 y.o.  Mykolaiv, Mykolaiv Oblast, Ukraine, 54000   single   \n",
       "2  female  58 y.o.                             Tulsa, OK, USA   single   \n",
       "3    male  60 y.o.              Algiers [El Djazaïr], Algeria   single   \n",
       "4    male  28 y.o.    Santo Domingo de los Tsáchilas, Ecuador   single   \n",
       "\n",
       "         username ethnicity              occupation description  \\\n",
       "0       Royer6873  hispanic                     NaN         NaN   \n",
       "1       uaola1981     white                     NaN         NaN   \n",
       "2     Dessarono55     black               Logistics         NaN   \n",
       "3  maliktabib1964     white                     NaN         NaN   \n",
       "4         Jaron26  hispanic  Ingeniero Agropecuario         NaN   \n",
       "\n",
       "       match_age              children orientation   religion     smoking  \\\n",
       "0  from 19 to 86         want children    Straight      Other  non-smoker   \n",
       "1  from 19 to 75           no children    Straight      Other  non-smoker   \n",
       "2  from 50 to 60  1-2 living elsewhere    Straight  Spiritual  non-smoker   \n",
       "3  from 19 to 50           no children    Straight     Muslim  non-smoker   \n",
       "4  from 25 to 30           no children    Straight  Christian  non-smoker   \n",
       "\n",
       "             drinking                                             intent  \n",
       "0  occasional drinker                               Serious Relationship  \n",
       "1      social drinker  Friendship, Romance, Serious Relationship, Mar...  \n",
       "2      social drinker                     Serious Relationship, Marriage  \n",
       "3               never                                         Friendship  \n",
       "4               never  Fun, Friendship, Romance, Serious Relationship...  "
      ]
     },
     "execution_count": 2,
     "metadata": {},
     "output_type": "execute_result"
    }
   ],
   "source": [
    "real_df = pd.read_csv('../data/real_profiles.csv')\n",
    "real_df.replace(\"-\", np.nan, inplace=True)\n",
    "real_df.head()"
   ]
  },
  {
   "cell_type": "code",
   "execution_count": 12,
   "metadata": {},
   "outputs": [
    {
     "data": {
      "text/html": [
       "<div>\n",
       "<style scoped>\n",
       "    .dataframe tbody tr th:only-of-type {\n",
       "        vertical-align: middle;\n",
       "    }\n",
       "\n",
       "    .dataframe tbody tr th {\n",
       "        vertical-align: top;\n",
       "    }\n",
       "\n",
       "    .dataframe thead th {\n",
       "        text-align: right;\n",
       "    }\n",
       "</style>\n",
       "<table border=\"1\" class=\"dataframe\">\n",
       "  <thead>\n",
       "    <tr style=\"text-align: right;\">\n",
       "      <th></th>\n",
       "      <th>gender</th>\n",
       "      <th>age</th>\n",
       "      <th>location</th>\n",
       "      <th>status</th>\n",
       "      <th>username</th>\n",
       "      <th>ethnicity</th>\n",
       "      <th>occupation</th>\n",
       "      <th>description</th>\n",
       "      <th>match_age</th>\n",
       "      <th>children</th>\n",
       "      <th>orientation</th>\n",
       "      <th>religion</th>\n",
       "      <th>smoking</th>\n",
       "      <th>drinking</th>\n",
       "      <th>intent</th>\n",
       "    </tr>\n",
       "  </thead>\n",
       "  <tbody>\n",
       "    <tr>\n",
       "      <th>count</th>\n",
       "      <td>5295</td>\n",
       "      <td>5219</td>\n",
       "      <td>5294</td>\n",
       "      <td>5209</td>\n",
       "      <td>5295</td>\n",
       "      <td>5209</td>\n",
       "      <td>2814</td>\n",
       "      <td>1104</td>\n",
       "      <td>5294</td>\n",
       "      <td>5210</td>\n",
       "      <td>5209</td>\n",
       "      <td>5209</td>\n",
       "      <td>5209</td>\n",
       "      <td>5209</td>\n",
       "      <td>5294</td>\n",
       "    </tr>\n",
       "    <tr>\n",
       "      <th>unique</th>\n",
       "      <td>2</td>\n",
       "      <td>68</td>\n",
       "      <td>2237</td>\n",
       "      <td>6</td>\n",
       "      <td>5294</td>\n",
       "      <td>8</td>\n",
       "      <td>1716</td>\n",
       "      <td>1104</td>\n",
       "      <td>728</td>\n",
       "      <td>7</td>\n",
       "      <td>3</td>\n",
       "      <td>8</td>\n",
       "      <td>4</td>\n",
       "      <td>4</td>\n",
       "      <td>30</td>\n",
       "    </tr>\n",
       "    <tr>\n",
       "      <th>top</th>\n",
       "      <td>male</td>\n",
       "      <td>43 y.o.</td>\n",
       "      <td>Lima, Perú</td>\n",
       "      <td>single</td>\n",
       "      <td>alexandroj</td>\n",
       "      <td>hispanic</td>\n",
       "      <td>Retired</td>\n",
       "      <td>I'm the melody to your music and the cure to y...</td>\n",
       "      <td>from 19 to 86</td>\n",
       "      <td>no children</td>\n",
       "      <td>Straight</td>\n",
       "      <td>Christian</td>\n",
       "      <td>non-smoker</td>\n",
       "      <td>social drinker</td>\n",
       "      <td>Serious Relationship</td>\n",
       "    </tr>\n",
       "    <tr>\n",
       "      <th>freq</th>\n",
       "      <td>3727</td>\n",
       "      <td>208</td>\n",
       "      <td>196</td>\n",
       "      <td>3201</td>\n",
       "      <td>2</td>\n",
       "      <td>2327</td>\n",
       "      <td>52</td>\n",
       "      <td>1</td>\n",
       "      <td>1610</td>\n",
       "      <td>2178</td>\n",
       "      <td>5009</td>\n",
       "      <td>2691</td>\n",
       "      <td>3837</td>\n",
       "      <td>2243</td>\n",
       "      <td>1212</td>\n",
       "    </tr>\n",
       "  </tbody>\n",
       "</table>\n",
       "</div>"
      ],
      "text/plain": [
       "       gender      age    location  status    username ethnicity occupation  \\\n",
       "count    5295     5219        5294    5209        5295      5209       2814   \n",
       "unique      2       68        2237       6        5294         8       1716   \n",
       "top      male  43 y.o.  Lima, Perú  single  alexandroj  hispanic    Retired   \n",
       "freq     3727      208         196    3201           2      2327         52   \n",
       "\n",
       "                                              description      match_age  \\\n",
       "count                                                1104           5294   \n",
       "unique                                               1104            728   \n",
       "top     I'm the melody to your music and the cure to y...  from 19 to 86   \n",
       "freq                                                    1           1610   \n",
       "\n",
       "           children orientation   religion     smoking        drinking  \\\n",
       "count          5210        5209       5209        5209            5209   \n",
       "unique            7           3          8           4               4   \n",
       "top     no children    Straight  Christian  non-smoker  social drinker   \n",
       "freq           2178        5009       2691        3837            2243   \n",
       "\n",
       "                      intent  \n",
       "count                   5294  \n",
       "unique                    30  \n",
       "top     Serious Relationship  \n",
       "freq                    1212  "
      ]
     },
     "execution_count": 12,
     "metadata": {},
     "output_type": "execute_result"
    }
   ],
   "source": [
    "real_df.describe()"
   ]
  },
  {
   "cell_type": "code",
   "execution_count": 22,
   "metadata": {},
   "outputs": [
    {
     "data": {
      "image/png": "[encoded data removed]",
      "text/plain": [
       "<Figure size 640x480 with 1 Axes>"
      ]
     },
     "metadata": {},
     "output_type": "display_data"
    }
   ],
   "source": [
    "plt.hist(np.where(real_df[\"description\"].notna())[0], bins=30)\n",
    "plt.show()"
   ]
  },
  {
   "cell_type": "code",
   "execution_count": 13,
   "metadata": {},
   "outputs": [
    {
     "data": {
      "text/plain": [
       "gender         5295\n",
       "age            5219\n",
       "location       5294\n",
       "status         5209\n",
       "username       5295\n",
       "ethnicity      5209\n",
       "occupation     2814\n",
       "description    1104\n",
       "match_age      5294\n",
       "children       5210\n",
       "orientation    5209\n",
       "religion       5209\n",
       "smoking        5209\n",
       "drinking       5209\n",
       "intent         5294\n",
       "dtype: int64"
      ]
     },
     "execution_count": 13,
     "metadata": {},
     "output_type": "execute_result"
    }
   ],
   "source": [
    "real_df.notnull().sum()"
   ]
  },
  {
   "cell_type": "code",
   "execution_count": 14,
   "metadata": {},
   "outputs": [
    {
     "name": "stderr",
     "output_type": "stream",
     "text": [
      "/home/javier/miniconda3/envs/dsa4263/lib/python3.10/site-packages/seaborn/_oldcore.py:1119: FutureWarning: use_inf_as_na option is deprecated and will be removed in a future version. Convert inf values to NaN before operating instead.\n",
      "  with pd.option_context('mode.use_inf_as_na', True):\n"
     ]
    },
    {
     "data": {
      "image/png": "[encoded data removed]",
      "text/plain": [
       "<Figure size 2000x600 with 1 Axes>"
      ]
     },
     "metadata": {},
     "output_type": "display_data"
    }
   ],
   "source": [
    "# plot distribution of age of users with seaborn\n",
    "plt.figure(figsize=(20, 6))\n",
    "sns.histplot(real_df[\"age\"], bins=30, kde=True)\n",
    "plt.title(\"Distribution of age of users\")\n",
    "plt.show()"
   ]
  },
  {
   "cell_type": "code",
   "execution_count": 15,
   "metadata": {},
   "outputs": [
    {
     "data": {
      "text/plain": [
       "age\n",
       "43 y.o.    208\n",
       "40 y.o.    192\n",
       "35 y.o.    189\n",
       "36 y.o.    185\n",
       "37 y.o.    182\n",
       "          ... \n",
       "81 y.o.      1\n",
       "83 y.o.      1\n",
       "84 y.o.      1\n",
       "80 y.o.      1\n",
       "90 y.o.      1\n",
       "Name: count, Length: 68, dtype: int64"
      ]
     },
     "execution_count": 15,
     "metadata": {},
     "output_type": "execute_result"
    }
   ],
   "source": [
    "real_df[\"age\"].value_counts()"
   ]
  },
  {
   "cell_type": "markdown",
   "metadata": {},
   "source": [
    "Need to clean up age column"
   ]
  },
  {
   "cell_type": "code",
   "execution_count": 16,
   "metadata": {},
   "outputs": [
    {
     "data": {
      "text/plain": [
       "status\n",
       "single             3201\n",
       "divorced           1074\n",
       "separated           643\n",
       "widowed             149\n",
       "in relationship      78\n",
       "married              64\n",
       "Name: count, dtype: int64"
      ]
     },
     "execution_count": 16,
     "metadata": {},
     "output_type": "execute_result"
    }
   ],
   "source": [
    "real_df[\"status\"].value_counts()"
   ]
  },
  {
   "cell_type": "code",
   "execution_count": null,
   "metadata": {},
   "outputs": [],
   "source": []
  },
  {
   "cell_type": "markdown",
   "metadata": {},
   "source": [
    "# Todo"
   ]
  },
  {
   "cell_type": "markdown",
   "metadata": {},
   "source": [
    "- [ ] Clean up age feature\n",
    "- [ ] Clean up status feature\n",
    "- [ ] Drop phone feature (should we?)\n",
    "- [ ] Drop inet feature (should we?)\n",
    "- [ ] Drop messages feature (privacy concerns)\n",
    "- [ ] Drop justification field"
   ]
  }
 ],
 "metadata": {
  "kernelspec": {
   "display_name": "dsa4263",
   "language": "python",
   "name": "python3"
  },
  "language_info": {
   "codemirror_mode": {
    "name": "ipython",
    "version": 3
   },
   "file_extension": ".py",
   "mimetype": "text/x-python",
   "name": "python",
   "nbconvert_exporter": "python",
   "pygments_lexer": "ipython3",
   "version": "3.10.14"
  }
 },
 "nbformat": 4,
 "nbformat_minor": 2
}
