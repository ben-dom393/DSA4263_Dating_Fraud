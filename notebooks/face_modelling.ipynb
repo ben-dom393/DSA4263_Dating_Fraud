{
 "cells": [
  {
   "cell_type": "code",
   "execution_count": 65,
   "metadata": {},
   "outputs": [],
   "source": [
    "import os\n",
    "import pandas as pd\n",
    "from sklearn.model_selection import train_test_split\n",
    "import numpy as np\n",
    "import pandas as pd\n",
    "from tensorflow.keras.models import Sequential\n",
    "from tensorflow.keras.layers import Conv2D, MaxPooling2D, Flatten, Dense, BatchNormalization, Dropout\n",
    "from tensorflow.keras.callbacks import EarlyStopping, ModelCheckpoint\n",
    "from tensorflow.keras.preprocessing.image import img_to_array, load_img\n",
    "from tensorflow.keras.applications import ResNet50\n",
    "from keras.applications.imagenet_utils import decode_predictions\n",
    "from tensorflow.keras.preprocessing.image import ImageDataGenerator\n",
    "import tensorflow.keras.utils\n",
    "import matplotlib.pyplot as plt\n",
    "import torch\n",
    "import torch.nn as nn\n",
    "import torch.optim as optim\n",
    "from PIL import Image\n",
    "import random"
   ]
  },
  {
   "cell_type": "markdown",
   "metadata": {},
   "source": [
    "# Split the Data"
   ]
  },
  {
   "cell_type": "code",
   "execution_count": 66,
   "metadata": {},
   "outputs": [],
   "source": [
    "# Directories containing preprocessed images\n",
    "save_directory_real = '../data/interim/face_processed/real'\n",
    "save_directory_fake = '../data/interim/face_processed/fake'\n",
    "\n",
    "# Function to create a DataFrame with image paths and labels\n",
    "def create_image_label_df(real_dir, fake_dir):\n",
    "    real_images = [(os.path.join(real_dir, f), 1) for f in os.listdir(real_dir) if os.path.isfile(os.path.join(real_dir, f))]\n",
    "    fake_images = [(os.path.join(fake_dir, f), 0) for f in os.listdir(fake_dir) if os.path.isfile(os.path.join(fake_dir, f))]\n",
    "    \n",
    "    # Combine real and fake images into one DataFrame\n",
    "    df = pd.DataFrame(real_images + fake_images, columns=['image_path', 'label'])\n",
    "    return df\n",
    "\n",
    "# Create the DataFrame\n",
    "images_df = create_image_label_df(save_directory_real, save_directory_fake)"
   ]
  },
  {
   "cell_type": "code",
   "execution_count": 67,
   "metadata": {},
   "outputs": [
    {
     "name": "stdout",
     "output_type": "stream",
     "text": [
      "Training set size: 2400\n",
      "Validation set size: 800\n",
      "Testing set size: 800\n"
     ]
    },
    {
     "data": {
      "text/plain": [
       "'\\nTraining Set: 60% of the original dataset.\\nValidation Set: 20% of the original dataset.\\nTesting Set: 20% of the original dataset.\\n'"
      ]
     },
     "execution_count": 67,
     "metadata": {},
     "output_type": "execute_result"
    }
   ],
   "source": [
    "# Splitting the data into features and target arrays\n",
    "X = images_df['image_path'].values\n",
    "y = images_df['label'].values\n",
    "\n",
    "# First split to separate out the test set\n",
    "X_temp, X_test, y_temp, y_test = train_test_split(X, y, test_size=0.2, random_state=42, stratify=y)\n",
    "\n",
    "# Second split to separate out the training and validation sets\n",
    "X_train, X_val, y_train, y_val = train_test_split(X_temp, y_temp, test_size=0.25, random_state=42, stratify=y_temp)  # 0.25 x 0.8 = 0.2\n",
    "\n",
    "print(f\"Training set size: {len(X_train)}\")\n",
    "print(f\"Validation set size: {len(X_val)}\")\n",
    "print(f\"Testing set size: {len(X_test)}\")\n",
    "\n",
    "'''\n",
    "Training Set: 60% of the original dataset.\n",
    "Validation Set: 20% of the original dataset.\n",
    "Testing Set: 20% of the original dataset.\n",
    "'''"
   ]
  },
  {
   "cell_type": "markdown",
   "metadata": {},
   "source": [
    "# Loading images for modelling"
   ]
  },
  {
   "cell_type": "code",
   "execution_count": 81,
   "metadata": {},
   "outputs": [],
   "source": [
    "def load_images(image_paths, labels):\n",
    "    images = []\n",
    "    for image_path in image_paths:\n",
    "        img = load_img(image_path, target_size=(128, 128), color_mode='grayscale') #Note: gray scale and size pre-processed alr\n",
    "        img_array = img_to_array(img)/255.0 #Convert image to array + normalise \n",
    "        images.append(img_array) \n",
    "    return np.array(images), np.array(labels)\n",
    "\n",
    "# Load and get images in dataset (From path)\n",
    "X_train_processed, y_train_processed = load_images(X_train, y_train)\n",
    "X_val_processed, y_val_processed = load_images(X_val, y_val)\n",
    "X_test_processed, y_test_processed = load_images(X_test, y_test)"
   ]
  },
  {
   "cell_type": "code",
   "execution_count": 82,
   "metadata": {},
   "outputs": [
    {
     "data": {
      "text/plain": [
       "(2400, 128, 128, 1)"
      ]
     },
     "execution_count": 82,
     "metadata": {},
     "output_type": "execute_result"
    }
   ],
   "source": [
    "X_train_processed.shape"
   ]
  },
  {
   "cell_type": "markdown",
   "metadata": {},
   "source": [
    "# Modelling\n",
    "\n",
    "- Base Model"
   ]
  },
  {
   "cell_type": "code",
   "execution_count": 83,
   "metadata": {},
   "outputs": [
    {
     "name": "stdout",
     "output_type": "stream",
     "text": [
      "Model: \"sequential_7\"\n",
      "_________________________________________________________________\n",
      " Layer (type)                Output Shape              Param #   \n",
      "=================================================================\n",
      " conv2d_28 (Conv2D)          (None, 126, 126, 32)      320       \n",
      "                                                                 \n",
      " max_pooling2d_28 (MaxPoolin  (None, 63, 63, 32)       0         \n",
      " g2D)                                                            \n",
      "                                                                 \n",
      " conv2d_29 (Conv2D)          (None, 61, 61, 64)        18496     \n",
      "                                                                 \n",
      " max_pooling2d_29 (MaxPoolin  (None, 30, 30, 64)       0         \n",
      " g2D)                                                            \n",
      "                                                                 \n",
      " conv2d_30 (Conv2D)          (None, 28, 28, 128)       73856     \n",
      "                                                                 \n",
      " max_pooling2d_30 (MaxPoolin  (None, 14, 14, 128)      0         \n",
      " g2D)                                                            \n",
      "                                                                 \n",
      " conv2d_31 (Conv2D)          (None, 12, 12, 128)       147584    \n",
      "                                                                 \n",
      " max_pooling2d_31 (MaxPoolin  (None, 6, 6, 128)        0         \n",
      " g2D)                                                            \n",
      "                                                                 \n",
      " flatten_7 (Flatten)         (None, 4608)              0         \n",
      "                                                                 \n",
      " dropout_7 (Dropout)         (None, 4608)              0         \n",
      "                                                                 \n",
      " dense_14 (Dense)            (None, 512)               2359808   \n",
      "                                                                 \n",
      " dense_15 (Dense)            (None, 1)                 513       \n",
      "                                                                 \n",
      "=================================================================\n",
      "Total params: 2,600,577\n",
      "Trainable params: 2,600,577\n",
      "Non-trainable params: 0\n",
      "_________________________________________________________________\n"
     ]
    }
   ],
   "source": [
    "model = Sequential()\n",
    "model.add(Conv2D(32, kernel_size=(3,3),activation='relu',input_shape=(128,128,1)))\n",
    "model.add(MaxPooling2D(pool_size=(2,2)))\n",
    "#model.add(BatchNormalization())\n",
    "model.add(Conv2D(64, kernel_size=(3,3),activation='relu'))\n",
    "model.add(MaxPooling2D(pool_size=(2,2)))\n",
    "#model.add(BatchNormalization())\n",
    "model.add(Conv2D(128, kernel_size=(3,3),activation='relu'))\n",
    "model.add(MaxPooling2D(pool_size=(2,2)))\n",
    "#model.add(BatchNormalization())\n",
    "model.add(Conv2D(128, kernel_size=(3,3),activation='relu'))\n",
    "model.add(MaxPooling2D(pool_size=(2,2)))\n",
    "model.add(Flatten())\n",
    "#model.add(Dense(256, activation=\"relu\"))\n",
    "model.add(Dropout(0.5))\n",
    "model.add(Dense(512, activation=\"relu\"))\n",
    "model.add(Dense(1, activation=\"sigmoid\"))\n",
    "model.summary()"
   ]
  },
  {
   "cell_type": "code",
   "execution_count": 84,
   "metadata": {},
   "outputs": [],
   "source": [
    "model.compile(optimizer='SGD', loss='binary_crossentropy', metrics=['accuracy'])"
   ]
  },
  {
   "cell_type": "code",
   "execution_count": 87,
   "metadata": {},
   "outputs": [
    {
     "name": "stdout",
     "output_type": "stream",
     "text": [
      "Epoch 1/10\n",
      "75/75 [==============================] - 33s 438ms/step - loss: 0.6919 - accuracy: 0.5204 - val_loss: 0.6907 - val_accuracy: 0.6012\n",
      "Epoch 2/10\n",
      "75/75 [==============================] - 35s 468ms/step - loss: 0.6913 - accuracy: 0.5333 - val_loss: 0.6905 - val_accuracy: 0.5925\n",
      "Epoch 3/10\n",
      "75/75 [==============================] - 36s 483ms/step - loss: 0.6912 - accuracy: 0.5304 - val_loss: 0.6903 - val_accuracy: 0.6012\n",
      "Epoch 4/10\n",
      "75/75 [==============================] - 31s 415ms/step - loss: 0.6901 - accuracy: 0.5633 - val_loss: 0.6901 - val_accuracy: 0.5600\n",
      "Epoch 5/10\n",
      "75/75 [==============================] - 32s 424ms/step - loss: 0.6914 - accuracy: 0.5346 - val_loss: 0.6898 - val_accuracy: 0.5663\n",
      "Epoch 6/10\n",
      "75/75 [==============================] - 39s 527ms/step - loss: 0.6902 - accuracy: 0.5492 - val_loss: 0.6896 - val_accuracy: 0.5288\n",
      "Epoch 7/10\n",
      "75/75 [==============================] - 37s 495ms/step - loss: 0.6896 - accuracy: 0.5458 - val_loss: 0.6889 - val_accuracy: 0.5813\n",
      "Epoch 8/10\n",
      "75/75 [==============================] - 38s 507ms/step - loss: 0.6893 - accuracy: 0.5629 - val_loss: 0.6880 - val_accuracy: 0.6150\n",
      "Epoch 9/10\n",
      "75/75 [==============================] - 37s 496ms/step - loss: 0.6889 - accuracy: 0.5437 - val_loss: 0.6876 - val_accuracy: 0.5875\n",
      "Epoch 10/10\n",
      "75/75 [==============================] - 45s 601ms/step - loss: 0.6885 - accuracy: 0.5533 - val_loss: 0.6870 - val_accuracy: 0.5800\n"
     ]
    },
    {
     "data": {
      "text/plain": [
       "<keras.callbacks.History at 0x15d472410>"
      ]
     },
     "execution_count": 87,
     "metadata": {},
     "output_type": "execute_result"
    }
   ],
   "source": [
    "model.fit(X_train_processed, y_train_processed,\n",
    "          epochs=10, batch_size=32, \n",
    "          validation_data=(X_val_processed, y_val_processed))"
   ]
  },
  {
   "cell_type": "code",
   "execution_count": 88,
   "metadata": {},
   "outputs": [
    {
     "name": "stdout",
     "output_type": "stream",
     "text": [
      "25/25 [==============================] - 3s 132ms/step - loss: 0.6870 - accuracy: 0.5800\n",
      "0.5799999833106995\n"
     ]
    }
   ],
   "source": [
    "loss, accuracy = model.evaluate(X_test_processed, y_test_processed)\n",
    "print(accuracy)"
   ]
  }
 ],
 "metadata": {
  "kernelspec": {
   "display_name": "Python 3",
   "language": "python",
   "name": "python3"
  },
  "language_info": {
   "codemirror_mode": {
    "name": "ipython",
    "version": 3
   },
   "file_extension": ".py",
   "mimetype": "text/x-python",
   "name": "python",
   "nbconvert_exporter": "python",
   "pygments_lexer": "ipython3",
   "version": "3.10.13"
  }
 },
 "nbformat": 4,
 "nbformat_minor": 2
}
